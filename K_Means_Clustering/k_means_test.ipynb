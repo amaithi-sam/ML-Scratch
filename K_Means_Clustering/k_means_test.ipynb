{
 "cells": [
  {
   "cell_type": "code",
   "execution_count": 24,
   "metadata": {},
   "outputs": [],
   "source": [
    "import matplotlib.pyplot\n",
    "%matplotlib qt\n",
    "import numpy as np \n",
    "from sklearn.datasets import make_blobs\n",
    "import matplotlib.pyplot as plt \n",
    "\n",
    "from k_means import K_Means"
   ]
  },
  {
   "cell_type": "code",
   "execution_count": 19,
   "metadata": {},
   "outputs": [
    {
     "name": "stdout",
     "output_type": "stream",
     "text": [
      "(500, 2)\n"
     ]
    }
   ],
   "source": [
    "X, y =make_blobs(centers=4,\n",
    "                 n_samples = 500,\n",
    "                 n_features = 2,\n",
    "                 shuffle = True,\n",
    "                 random_state = 42\n",
    "                 )\n",
    "print(X.shape)"
   ]
  },
  {
   "cell_type": "code",
   "execution_count": 25,
   "metadata": {},
   "outputs": [
    {
     "name": "stdout",
     "output_type": "stream",
     "text": [
      "4\n"
     ]
    }
   ],
   "source": [
    "clusters = len(np.unique(y))\n",
    "print(clusters)"
   ]
  },
  {
   "cell_type": "code",
   "execution_count": 26,
   "metadata": {},
   "outputs": [],
   "source": [
    "k = K_Means(k=clusters, max_iters=150, plot_steps=True)\n",
    "  \n",
    "# y_pred = k.predict(X)\n",
    "y_pred = k.predict(X)\n",
    "# k.plot()"
   ]
  },
  {
   "cell_type": "code",
   "execution_count": null,
   "metadata": {},
   "outputs": [],
   "source": []
  },
  {
   "cell_type": "code",
   "execution_count": null,
   "metadata": {},
   "outputs": [],
   "source": []
  }
 ],
 "metadata": {
  "kernelspec": {
   "display_name": "Python 3.9.7 ('base')",
   "language": "python",
   "name": "python3"
  },
  "language_info": {
   "codemirror_mode": {
    "name": "ipython",
    "version": 3
   },
   "file_extension": ".py",
   "mimetype": "text/x-python",
   "name": "python",
   "nbconvert_exporter": "python",
   "pygments_lexer": "ipython3",
   "version": "3.9.7"
  },
  "orig_nbformat": 4,
  "vscode": {
   "interpreter": {
    "hash": "2a3c461bd9d1637a0dc518869bec74c7dfbf190e07d5ff662ab1f598c67dd81a"
   }
  }
 },
 "nbformat": 4,
 "nbformat_minor": 2
}
